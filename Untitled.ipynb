{
 "cells": [
  {
   "cell_type": "code",
   "execution_count": 12,
   "id": "795e5b3c-b9b8-4b63-b80a-27acc507f577",
   "metadata": {},
   "outputs": [],
   "source": [
    "import toml\n",
    "from greedyfhist.options import RegistrationOptions"
   ]
  },
  {
   "cell_type": "code",
   "execution_count": 13,
   "id": "f51a0238-9e6c-45a1-a435-30cca3b9063e",
   "metadata": {},
   "outputs": [],
   "source": [
    "# path = 'example_groupwise.toml'\n",
    "path = 'example.toml'"
   ]
  },
  {
   "cell_type": "code",
   "execution_count": 14,
   "id": "72912d10-332e-400e-a3ba-f54551723f89",
   "metadata": {},
   "outputs": [],
   "source": [
    "with open(path) as f:\n",
    "    args = toml.load(f)\n"
   ]
  },
  {
   "cell_type": "code",
   "execution_count": 19,
   "id": "3573b437-3044-4ac0-8150-e2790d4bb966",
   "metadata": {},
   "outputs": [],
   "source": [
    "import SimpleITK as sitk\n",
    "import tifffile"
   ]
  },
  {
   "cell_type": "code",
   "execution_count": 21,
   "id": "ab41c647",
   "metadata": {},
   "outputs": [],
   "source": [
    "a = tifffile.imread('examples/data/geojson_example/001 M+ V6 HES.vsi - 20x_BF_01.ome.tif')"
   ]
  },
  {
   "cell_type": "code",
   "execution_count": null,
   "id": "bd591efd",
   "metadata": {},
   "outputs": [],
   "source": [
    "tifffile.tifffile."
   ]
  },
  {
   "cell_type": "code",
   "execution_count": 18,
   "id": "9209899b",
   "metadata": {},
   "outputs": [
    {
     "name": "stderr",
     "output_type": "stream",
     "text": [
      "JPEGPreDecode: Improper JPEG sampling factors 2,2\n",
      "Apparently should be 1,1..\n",
      "JPEGPreDecode: Improper JPEG sampling factors 2,2\n",
      "Apparently should be 1,1..\n",
      "JPEGPreDecode: Improper JPEG sampling factors 2,2\n",
      "Apparently should be 1,1..\n",
      "JPEGPreDecode: Improper JPEG sampling factors 2,2\n",
      "Apparently should be 1,1..\n",
      "JPEGPreDecode: Improper JPEG sampling factors 2,2\n",
      "Apparently should be 1,1..\n",
      "JPEGPreDecode: Improper JPEG sampling factors 2,2\n",
      "Apparently should be 1,1..\n",
      "JPEGPreDecode: Improper JPEG sampling factors 2,2\n",
      "Apparently should be 1,1..\n",
      "JPEGPreDecode: Improper JPEG sampling factors 2,2\n",
      "Apparently should be 1,1..\n",
      "JPEGPreDecode: Improper JPEG sampling factors 2,2\n",
      "Apparently should be 1,1..\n",
      "JPEGPreDecode: Improper JPEG sampling factors 2,2\n",
      "Apparently should be 1,1..\n",
      "JPEGPreDecode: Improper JPEG sampling factors 2,2\n",
      "Apparently should be 1,1..\n",
      "JPEGPreDecode: Improper JPEG sampling factors 2,2\n",
      "Apparently should be 1,1..\n",
      "JPEGPreDecode: Improper JPEG sampling factors 2,2\n",
      "Apparently should be 1,1..\n",
      "JPEGPreDecode: Improper JPEG sampling factors 2,2\n",
      "Apparently should be 1,1..\n",
      "JPEGPreDecode: Improper JPEG sampling factors 2,2\n",
      "Apparently should be 1,1..\n",
      "JPEGPreDecode: Improper JPEG sampling factors 2,2\n",
      "Apparently should be 1,1..\n",
      "JPEGPreDecode: Improper JPEG sampling factors 2,2\n",
      "Apparently should be 1,1..\n",
      "JPEGPreDecode: Improper JPEG sampling factors 2,2\n",
      "Apparently should be 1,1..\n",
      "JPEGPreDecode: Improper JPEG sampling factors 2,2\n",
      "Apparently should be 1,1..\n",
      "JPEGPreDecode: Improper JPEG sampling factors 2,2\n",
      "Apparently should be 1,1..\n",
      "JPEGPreDecode: Improper JPEG sampling factors 2,2\n",
      "Apparently should be 1,1..\n",
      "JPEGPreDecode: Improper JPEG sampling factors 2,2\n",
      "Apparently should be 1,1..\n",
      "JPEGPreDecode: Improper JPEG sampling factors 2,2\n",
      "Apparently should be 1,1..\n",
      "JPEGPreDecode: Improper JPEG sampling factors 2,2\n",
      "Apparently should be 1,1..\n",
      "JPEGPreDecode: Improper JPEG sampling factors 2,2\n",
      "Apparently should be 1,1..\n",
      "JPEGPreDecode: Improper JPEG sampling factors 2,2\n",
      "Apparently should be 1,1..\n",
      "JPEGPreDecode: Improper JPEG sampling factors 2,2\n",
      "Apparently should be 1,1..\n",
      "JPEGPreDecode: Improper JPEG sampling factors 2,2\n",
      "Apparently should be 1,1..\n",
      "JPEGPreDecode: Improper JPEG sampling factors 2,2\n",
      "Apparently should be 1,1..\n",
      "JPEGPreDecode: Improper JPEG sampling factors 2,2\n",
      "Apparently should be 1,1..\n",
      "JPEGPreDecode: Improper JPEG sampling factors 2,2\n",
      "Apparently should be 1,1..\n",
      "JPEGPreDecode: Improper JPEG sampling factors 2,2\n",
      "Apparently should be 1,1..\n",
      "JPEGPreDecode: Improper JPEG sampling factors 2,2\n",
      "Apparently should be 1,1..\n",
      "JPEGPreDecode: Improper JPEG sampling factors 2,2\n",
      "Apparently should be 1,1..\n",
      "JPEGPreDecode: Improper JPEG sampling factors 2,2\n",
      "Apparently should be 1,1..\n",
      "JPEGPreDecode: Improper JPEG sampling factors 2,2\n",
      "Apparently should be 1,1..\n",
      "JPEGPreDecode: Improper JPEG sampling factors 2,2\n",
      "Apparently should be 1,1..\n",
      "JPEGPreDecode: Improper JPEG sampling factors 2,2\n",
      "Apparently should be 1,1..\n",
      "JPEGPreDecode: Improper JPEG sampling factors 2,2\n",
      "Apparently should be 1,1..\n",
      "JPEGPreDecode: Improper JPEG sampling factors 2,2\n",
      "Apparently should be 1,1..\n",
      "JPEGPreDecode: Improper JPEG sampling factors 2,2\n",
      "Apparently should be 1,1..\n",
      "JPEGPreDecode: Improper JPEG sampling factors 2,2\n",
      "Apparently should be 1,1..\n",
      "JPEGPreDecode: Improper JPEG sampling factors 2,2\n",
      "Apparently should be 1,1..\n",
      "JPEGPreDecode: Improper JPEG sampling factors 2,2\n",
      "Apparently should be 1,1..\n",
      "JPEGPreDecode: Improper JPEG sampling factors 2,2\n",
      "Apparently should be 1,1..\n",
      "JPEGPreDecode: Improper JPEG sampling factors 2,2\n",
      "Apparently should be 1,1..\n",
      "JPEGPreDecode: Improper JPEG sampling factors 2,2\n",
      "Apparently should be 1,1..\n",
      "JPEGPreDecode: Improper JPEG sampling factors 2,2\n",
      "Apparently should be 1,1..\n",
      "JPEGPreDecode: Improper JPEG sampling factors 2,2\n",
      "Apparently should be 1,1..\n",
      "JPEGPreDecode: Improper JPEG sampling factors 2,2\n",
      "Apparently should be 1,1..\n",
      "JPEGPreDecode: Improper JPEG sampling factors 2,2\n",
      "Apparently should be 1,1..\n"
     ]
    },
    {
     "ename": "RuntimeError",
     "evalue": "Exception thrown in SimpleITK ImageFileReader_Execute: /tmp/SimpleITK-build/ITK/Modules/IO/TIFF/src/itkTIFFImageIO.cxx:1307:\nITK ERROR: TIFFImageIO(0x55efbecc3210): Cannot read TIFF image as a TIFF RGBA image",
     "output_type": "error",
     "traceback": [
      "\u001b[0;31m---------------------------------------------------------------------------\u001b[0m",
      "\u001b[0;31mRuntimeError\u001b[0m                              Traceback (most recent call last)",
      "\u001b[0;32m/mnt/scratch/tmp/ipykernel_14483/4118347949.py\u001b[0m in \u001b[0;36m?\u001b[0;34m()\u001b[0m\n\u001b[0;32m----> 1\u001b[0;31m \u001b[0ma\u001b[0m \u001b[0;34m=\u001b[0m \u001b[0msitk\u001b[0m\u001b[0;34m.\u001b[0m\u001b[0mReadImage\u001b[0m\u001b[0;34m(\u001b[0m\u001b[0;34m'examples/data/geojson_example/001 M+ V6 HES.vsi - 20x_BF_01.ome.tif'\u001b[0m\u001b[0;34m)\u001b[0m\u001b[0;34m\u001b[0m\u001b[0;34m\u001b[0m\u001b[0m\n\u001b[0m",
      "\u001b[0;32m/mnt/work/maximilw/miniconda3/envs/miit2/lib/python3.10/site-packages/SimpleITK/extra.py\u001b[0m in \u001b[0;36m?\u001b[0;34m(fileName, outputPixelType, imageIO)\u001b[0m\n\u001b[1;32m    371\u001b[0m         \u001b[0mreader\u001b[0m\u001b[0;34m.\u001b[0m\u001b[0mSetFileNames\u001b[0m\u001b[0;34m(\u001b[0m\u001b[0;34m[\u001b[0m\u001b[0mstr\u001b[0m\u001b[0;34m(\u001b[0m\u001b[0mname\u001b[0m\u001b[0;34m)\u001b[0m \u001b[0;32mfor\u001b[0m \u001b[0mname\u001b[0m \u001b[0;32min\u001b[0m \u001b[0mfileName\u001b[0m\u001b[0;34m]\u001b[0m\u001b[0;34m)\u001b[0m\u001b[0;34m\u001b[0m\u001b[0;34m\u001b[0m\u001b[0m\n\u001b[1;32m    372\u001b[0m \u001b[0;34m\u001b[0m\u001b[0m\n\u001b[1;32m    373\u001b[0m     \u001b[0mreader\u001b[0m\u001b[0;34m.\u001b[0m\u001b[0mSetImageIO\u001b[0m\u001b[0;34m(\u001b[0m\u001b[0mimageIO\u001b[0m\u001b[0;34m)\u001b[0m\u001b[0;34m\u001b[0m\u001b[0;34m\u001b[0m\u001b[0m\n\u001b[1;32m    374\u001b[0m     \u001b[0mreader\u001b[0m\u001b[0;34m.\u001b[0m\u001b[0mSetOutputPixelType\u001b[0m\u001b[0;34m(\u001b[0m\u001b[0moutputPixelType\u001b[0m\u001b[0;34m)\u001b[0m\u001b[0;34m\u001b[0m\u001b[0;34m\u001b[0m\u001b[0m\n\u001b[0;32m--> 375\u001b[0;31m     \u001b[0;32mreturn\u001b[0m \u001b[0mreader\u001b[0m\u001b[0;34m.\u001b[0m\u001b[0mExecute\u001b[0m\u001b[0;34m(\u001b[0m\u001b[0;34m)\u001b[0m\u001b[0;34m\u001b[0m\u001b[0;34m\u001b[0m\u001b[0m\n\u001b[0m",
      "\u001b[0;32m/mnt/work/maximilw/miniconda3/envs/miit2/lib/python3.10/site-packages/SimpleITK/SimpleITK.py\u001b[0m in \u001b[0;36m?\u001b[0;34m(self)\u001b[0m\n\u001b[1;32m   8426\u001b[0m         \u001b[0mtype\u001b[0m \u001b[0mto\u001b[0m \u001b[0mbe\u001b[0m \u001b[0msame\u001b[0m \u001b[0;32mas\u001b[0m \u001b[0mthe\u001b[0m \u001b[0mfile\u001b[0m\u001b[0;34m.\u001b[0m \u001b[0mIf\u001b[0m \u001b[0mthe\u001b[0m \u001b[0mpixel\u001b[0m \u001b[0mtype\u001b[0m \u001b[0;32mis\u001b[0m \u001b[0mspecified\u001b[0m \u001b[0mthen\u001b[0m \u001b[0mthe\u001b[0m \u001b[0mitk\u001b[0m\u001b[0;34m:\u001b[0m\u001b[0;34m:\u001b[0m\u001b[0mConvertPixelBuffer\u001b[0m \u001b[0mwill\u001b[0m \u001b[0mbe\u001b[0m \u001b[0mused\u001b[0m \u001b[0mto\u001b[0m \u001b[0mconvert\u001b[0m \u001b[0mthe\u001b[0m \u001b[0mpixels\u001b[0m\u001b[0;34m.\u001b[0m\u001b[0;34m\u001b[0m\u001b[0;34m\u001b[0m\u001b[0m\n\u001b[1;32m   8427\u001b[0m \u001b[0;34m\u001b[0m\u001b[0m\n\u001b[1;32m   8428\u001b[0m \u001b[0;34m\u001b[0m\u001b[0m\n\u001b[1;32m   8429\u001b[0m         \"\"\"\n\u001b[0;32m-> 8430\u001b[0;31m         \u001b[0;32mreturn\u001b[0m \u001b[0m_SimpleITK\u001b[0m\u001b[0;34m.\u001b[0m\u001b[0mImageFileReader_Execute\u001b[0m\u001b[0;34m(\u001b[0m\u001b[0mself\u001b[0m\u001b[0;34m)\u001b[0m\u001b[0;34m\u001b[0m\u001b[0;34m\u001b[0m\u001b[0m\n\u001b[0m",
      "\u001b[0;31mRuntimeError\u001b[0m: Exception thrown in SimpleITK ImageFileReader_Execute: /tmp/SimpleITK-build/ITK/Modules/IO/TIFF/src/itkTIFFImageIO.cxx:1307:\nITK ERROR: TIFFImageIO(0x55efbecc3210): Cannot read TIFF image as a TIFF RGBA image"
     ]
    }
   ],
   "source": [
    "a = sitk.ReadImage('examples/data/geojson_example/001 M+ V6 HES.vsi - 20x_BF_01.ome.tif')"
   ]
  },
  {
   "cell_type": "code",
   "execution_count": 5,
   "id": "a3e83fc3-a575-4327-8550-b639919c5d04",
   "metadata": {},
   "outputs": [],
   "source": [
    "options = RegistrationOptions.parse_cmdln_dict(args['gfh_options'])"
   ]
  },
  {
   "cell_type": "code",
   "execution_count": 6,
   "id": "4662c548",
   "metadata": {},
   "outputs": [
    {
     "data": {
      "text/plain": [
       "RegistrationOptions(greedy_opts=GreedyOptions(dim=2, s1=5.0, s2=5.0, kernel_size=10, cost_function='ncc', iteration_rigid=10000, ia='ia-com-init', affine_iteration_pyramid=[100, 50, 10], nonrigid_iteration_pyramid=[100, 100, 50, 10], n_threads=1, use_sv=False, use_svlb=False, exp=None), resolution=(1024, 1024), do_affine_registration=True, do_nonrigid_registration=True, enable_affine_denoising=True, enable_deformable_denoising=True, moving_sr=30, moving_sp=25, fixed_sr=30, fixed_sp=25, pre_downsampling_factor=1, keep_affine_transform_unbounded=True, temporary_directory='tmp', remove_temporary_directory=True)"
      ]
     },
     "execution_count": 6,
     "metadata": {},
     "output_type": "execute_result"
    }
   ],
   "source": [
    "options"
   ]
  },
  {
   "cell_type": "code",
   "execution_count": 7,
   "id": "5d7862fe",
   "metadata": {},
   "outputs": [
    {
     "data": {
      "text/plain": [
       "{'temporary_directory': 'tmp',\n",
       " 'store_commandline_logs': True,\n",
       " 'remove_temporary_directory': True,\n",
       " 'output_directory': 'out'}"
      ]
     },
     "execution_count": 7,
     "metadata": {},
     "output_type": "execute_result"
    }
   ],
   "source": [
    "args['options']"
   ]
  },
  {
   "cell_type": "code",
   "execution_count": 10,
   "id": "0360dc82",
   "metadata": {},
   "outputs": [],
   "source": [
    "args.get('options2', None)"
   ]
  },
  {
   "cell_type": "code",
   "execution_count": 11,
   "id": "f8b228b5",
   "metadata": {},
   "outputs": [],
   "source": [
    "import numpy as np"
   ]
  },
  {
   "cell_type": "code",
   "execution_count": null,
   "id": "626983e3",
   "metadata": {},
   "outputs": [],
   "source": [
    "np.squeeze"
   ]
  },
  {
   "cell_type": "code",
   "execution_count": 9,
   "id": "dedcced7",
   "metadata": {},
   "outputs": [
    {
     "ename": "AttributeError",
     "evalue": "'Options' object has no attribute '__assign_if_present'",
     "output_type": "error",
     "traceback": [
      "\u001b[0;31m---------------------------------------------------------------------------\u001b[0m",
      "\u001b[0;31mAttributeError\u001b[0m                            Traceback (most recent call last)",
      "Cell \u001b[0;32mIn[9], line 1\u001b[0m\n\u001b[0;32m----> 1\u001b[0m options\u001b[39m.\u001b[39;49m__assign_if_present(\u001b[39m'\u001b[39m\u001b[39mmoving_sr\u001b[39m\u001b[39m'\u001b[39m, args)\n",
      "\u001b[0;31mAttributeError\u001b[0m: 'Options' object has no attribute '__assign_if_present'"
     ]
    }
   ],
   "source": [
    "options.__assign_if_present('moving_sr', args)"
   ]
  },
  {
   "cell_type": "code",
   "execution_count": 21,
   "id": "619ede88",
   "metadata": {},
   "outputs": [
    {
     "ename": "AttributeError",
     "evalue": "'Options' object has no attribute '__assign_if_present'",
     "output_type": "error",
     "traceback": [
      "\u001b[0;31m---------------------------------------------------------------------------\u001b[0m",
      "\u001b[0;31mAttributeError\u001b[0m                            Traceback (most recent call last)",
      "Cell \u001b[0;32mIn[21], line 1\u001b[0m\n\u001b[0;32m----> 1\u001b[0m options\u001b[39m.\u001b[39;49m__assign_if_present\n",
      "\u001b[0;31mAttributeError\u001b[0m: 'Options' object has no attribute '__assign_if_present'"
     ]
    }
   ],
   "source": [
    "options.__assign_if_present"
   ]
  },
  {
   "cell_type": "code",
   "execution_count": 12,
   "id": "04f80873",
   "metadata": {},
   "outputs": [
    {
     "data": {
      "text/plain": [
       "['_Options__assign_if_present',\n",
       " '_Options__collect_greedy_args',\n",
       " '__annotations__',\n",
       " '__class__',\n",
       " '__dataclass_fields__',\n",
       " '__dataclass_params__',\n",
       " '__delattr__',\n",
       " '__dict__',\n",
       " '__dir__',\n",
       " '__doc__',\n",
       " '__eq__',\n",
       " '__format__',\n",
       " '__ge__',\n",
       " '__getattribute__',\n",
       " '__gt__',\n",
       " '__hash__',\n",
       " '__init__',\n",
       " '__init_subclass__',\n",
       " '__le__',\n",
       " '__lt__',\n",
       " '__match_args__',\n",
       " '__module__',\n",
       " '__ne__',\n",
       " '__new__',\n",
       " '__post_init__',\n",
       " '__reduce__',\n",
       " '__reduce_ex__',\n",
       " '__repr__',\n",
       " '__setattr__',\n",
       " '__sizeof__',\n",
       " '__str__',\n",
       " '__subclasshook__',\n",
       " '__weakref__',\n",
       " 'do_affine_registration',\n",
       " 'do_nonrigid_registration',\n",
       " 'enable_affine_denoising',\n",
       " 'enable_deformable_denoising',\n",
       " 'fixed_sp',\n",
       " 'fixed_sr',\n",
       " 'greedy_opts',\n",
       " 'keep_affine_transform_unbounded',\n",
       " 'moving_sp',\n",
       " 'moving_sr',\n",
       " 'parse_cmdln_dict',\n",
       " 'parse_dict',\n",
       " 'pre_downsampling_factor',\n",
       " 'remove_temporary_directory',\n",
       " 'resolution',\n",
       " 'store_commandline_logs',\n",
       " 'temporary_directory',\n",
       " 'to_dict']"
      ]
     },
     "execution_count": 12,
     "metadata": {},
     "output_type": "execute_result"
    }
   ],
   "source": [
    "dir(options)"
   ]
  },
  {
   "cell_type": "code",
   "execution_count": 13,
   "id": "6ae6891f",
   "metadata": {},
   "outputs": [
    {
     "data": {
      "text/plain": [
       "{'greedy_opts': {'dim': 2,\n",
       "  's1': 5.0,\n",
       "  's2': 5.0,\n",
       "  'kernel_size': 10,\n",
       "  'cost_function': 'ncc',\n",
       "  'iteration_rigid': 10000,\n",
       "  'ia': 'ia-com-init',\n",
       "  'affine_iteration_pyramid': [100, 50, 10],\n",
       "  'nonrigid_iteration_pyramid': [100, 100, 50, 10],\n",
       "  'n_threads': 1,\n",
       "  'use_sv': False,\n",
       "  'use_svlb': False,\n",
       "  'exp': None},\n",
       " 'resolution': (1024, 1024),\n",
       " 'temporary_directory': 'tmp',\n",
       " 'do_affine_registration': True,\n",
       " 'do_nonrigid_registration': True,\n",
       " 'enable_affine_denoising': True,\n",
       " 'enable_deformable_denoising': True,\n",
       " 'moving_sr': 30,\n",
       " 'moving_sp': 25,\n",
       " 'fixed_sr': 30,\n",
       " 'fixed_sp': 25,\n",
       " 'pre_downsampling_factor': 1,\n",
       " 'store_commandline_logs': True,\n",
       " 'remove_temporary_directory': True,\n",
       " 'keep_affine_transform_unbounded': True}"
      ]
     },
     "execution_count": 13,
     "metadata": {},
     "output_type": "execute_result"
    }
   ],
   "source": [
    "options.to_dict()"
   ]
  },
  {
   "cell_type": "code",
   "execution_count": null,
   "id": "038e55da",
   "metadata": {},
   "outputs": [],
   "source": []
  }
 ],
 "metadata": {
  "kernelspec": {
   "display_name": "Python 3 (ipykernel)",
   "language": "python",
   "name": "python3"
  },
  "language_info": {
   "codemirror_mode": {
    "name": "ipython",
    "version": 3
   },
   "file_extension": ".py",
   "mimetype": "text/x-python",
   "name": "python",
   "nbconvert_exporter": "python",
   "pygments_lexer": "ipython3",
   "version": "3.10.13"
  }
 },
 "nbformat": 4,
 "nbformat_minor": 5
}
