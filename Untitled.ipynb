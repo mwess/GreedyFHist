{
 "cells": [
  {
   "cell_type": "code",
   "execution_count": 2,
   "id": "795e5b3c-b9b8-4b63-b80a-27acc507f577",
   "metadata": {},
   "outputs": [],
   "source": [
    "import toml"
   ]
  },
  {
   "cell_type": "code",
   "execution_count": 12,
   "id": "f51a0238-9e6c-45a1-a435-30cca3b9063e",
   "metadata": {},
   "outputs": [],
   "source": [
    "path = 'example_groupwise.toml'"
   ]
  },
  {
   "cell_type": "code",
   "execution_count": 13,
   "id": "72912d10-332e-400e-a3ba-f54551723f89",
   "metadata": {},
   "outputs": [],
   "source": [
    "with open(path) as f:\n",
    "    args = toml.load(f)\n"
   ]
  },
  {
   "cell_type": "code",
   "execution_count": 14,
   "id": "3573b437-3044-4ac0-8150-e2790d4bb966",
   "metadata": {},
   "outputs": [
    {
     "data": {
      "text/plain": [
       "{'options': {'resolution': '1024x1024',\n",
       "  'temporary_directory': 'tmp',\n",
       "  'do_affine_registration': True,\n",
       "  'enable_affine_denoising': True,\n",
       "  'do_nonrigid_registration': True,\n",
       "  'enable_nonrigid_denoising': False,\n",
       "  'moving_sr': 30,\n",
       "  'moving_sp': 25,\n",
       "  'fixed_sr': 30,\n",
       "  'fixed_sp': 25,\n",
       "  'pre_downsampling_factor': 1,\n",
       "  'store_commandline_logs': True,\n",
       "  'remove_temporary_directory': True,\n",
       "  'keep_affine_transform_unbounded': True,\n",
       "  'greedy': {'s1': 5.0,\n",
       "   's2': 5.0,\n",
       "   'kernel_size': 10,\n",
       "   'number_rigid_iterations': 10000,\n",
       "   'ia': 'ia-com-init',\n",
       "   'affine_iteration_pyramid': [100, 50, 10],\n",
       "   'deformable_pyramid_iterations': [100, 100, 50, 10],\n",
       "   'n_threads': 1,\n",
       "   'use_sv': False,\n",
       "   'use_svlb': False,\n",
       "   'yolo_segmentation_min_size': 5000}},\n",
       " 'input': {'data': [{'image_path': 'image_path1', 'mask_path': 'mask_path1'},\n",
       "   {'image_path': 'image_path2', 'mask_path': 'mask_path2'},\n",
       "   {'image_path': 'image_path3', 'mask_path': 'mask_path3'}]}}"
      ]
     },
     "execution_count": 14,
     "metadata": {},
     "output_type": "execute_result"
    }
   ],
   "source": [
    "args"
   ]
  },
  {
   "cell_type": "code",
   "execution_count": null,
   "id": "a3e83fc3-a575-4327-8550-b639919c5d04",
   "metadata": {},
   "outputs": [],
   "source": []
  }
 ],
 "metadata": {
  "kernelspec": {
   "display_name": "Python 3 (ipykernel)",
   "language": "python",
   "name": "python3"
  },
  "language_info": {
   "codemirror_mode": {
    "name": "ipython",
    "version": 3
   },
   "file_extension": ".py",
   "mimetype": "text/x-python",
   "name": "python",
   "nbconvert_exporter": "python",
   "pygments_lexer": "ipython3",
   "version": "3.10.14"
  }
 },
 "nbformat": 4,
 "nbformat_minor": 5
}
